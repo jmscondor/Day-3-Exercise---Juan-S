{
 "cells": [
  {
   "cell_type": "markdown",
   "metadata": {},
   "source": [
    "### Exercise 1\n",
    "Use a print statement to display:\n",
    "- your name\n",
    "- your favorite number\n",
    "- your favorite subject/topic"
   ]
  },
  {
   "cell_type": "code",
   "execution_count": 19,
   "metadata": {},
   "outputs": [
    {
     "name": "stdout",
     "output_type": "stream",
     "text": [
      "Juan Sempertegui\n",
      "My favorite number is 3\n",
      "My favorite subject/topic is History\n",
      "Juan Sempertegui 3 History\n"
     ]
    }
   ],
   "source": [
    "# use a print statement to display your name\n",
    "CompleteName =\"Juan Sempertegui\"\n",
    "print(CompleteName)\n",
    "\n",
    "# use a print statement to display your favorite number\n",
    "FavoriteNumber =\"3\"\n",
    "Message = \"My favorite number is\"\n",
    "print(Message, FavoriteNumber)\n",
    "\n",
    "# use a print statement to display your favorite subject/topic\n",
    "FavoriteTopic =\"History\"\n",
    "Message = \"My favorite subject/topic is\"\n",
    "print(Message, FavoriteTopic)\n",
    "\n",
    "print (CompleteName, FavoriteNumber, FavoriteTopic)"
   ]
  },
  {
   "cell_type": "markdown",
   "metadata": {},
   "source": [
    "### Exercise 2\n",
    "Copy your answer cell from question 1 and paste it below. Then modify the cell: \n",
    "- comment out the code to display your favorite number \n",
    "- add a code to display your favorite place \n",
    "- create in-line comments why the place is your favorite"
   ]
  },
  {
   "cell_type": "code",
   "execution_count": 20,
   "metadata": {},
   "outputs": [
    {
     "name": "stdout",
     "output_type": "stream",
     "text": [
      "Juan Sempertegui\n",
      "My favorite number is 3\n",
      "My favorite subject/topic is History\n",
      "My favorite place is Home\n"
     ]
    }
   ],
   "source": [
    "# use a print statement to display your name\n",
    "CompleteName =\"Juan Sempertegui\"\n",
    "print(CompleteName)\n",
    "\n",
    "# use a print statement to display your favorite number\n",
    "FavoriteNumber =\"3\"\n",
    "Message = \"My favorite number is\"\n",
    "print(Message, FavoriteNumber)\n",
    "\n",
    "# use a print statement to display your favorite subject/topic\n",
    "FavoriteTopic =\"History\"\n",
    "Message = \"My favorite subject/topic is\"\n",
    "print(Message, FavoriteTopic)\n",
    "\n",
    "# use a print statement to display your favorite subject/topic\n",
    "FavoritePlace =\"Home\"\n",
    "Message = \"My favorite place is\"\n",
    "print(Message, FavoritePlace)"
   ]
  },
  {
   "cell_type": "markdown",
   "metadata": {},
   "source": [
    "### Exercise 3\n",
    "Follow the instruction on each comment line."
   ]
  },
  {
   "cell_type": "code",
   "execution_count": 22,
   "metadata": {},
   "outputs": [
    {
     "data": {
      "text/plain": [
       "81"
      ]
     },
     "execution_count": 22,
     "metadata": {},
     "output_type": "execute_result"
    }
   ],
   "source": [
    "# Create a variable to hold the result of some arithmetic\n",
    "\n",
    "25 % 2\n",
    "3**4\n"
   ]
  },
  {
   "cell_type": "code",
   "execution_count": 47,
   "metadata": {},
   "outputs": [],
   "source": [
    "# Create a variable to hold a Boolean value\n",
    "value = \"True\""
   ]
  },
  {
   "cell_type": "code",
   "execution_count": 30,
   "metadata": {},
   "outputs": [
    {
     "name": "stdout",
     "output_type": "stream",
     "text": [
      "osito\n"
     ]
    }
   ],
   "source": [
    "# Create a variable to hold a pet's name\n",
    "name = \"Osito\"\n",
    "print(name)\n"
   ]
  },
  {
   "cell_type": "code",
   "execution_count": 46,
   "metadata": {},
   "outputs": [
    {
     "name": "stdout",
     "output_type": "stream",
     "text": [
      "My pet's name is Osito and it is True that Osito is 12 years old.\n"
     ]
    }
   ],
   "source": [
    "# Use one print statement to show\n",
    "# \"My pet's name is <pet>, and it is <boolean> that <pet> is <age> years old.\" \n",
    "# - you need to substitute <pet>, <boolean>, and <age> accordingly\n",
    "value = True\n",
    "name = \"Osito\"\n",
    "message1 = \"My pet's name is\"\n",
    "message2 = \"and it is\"\n",
    "age = 12\n",
    "\n",
    "\n",
    "print (\"My pet's name is\", name, \"and it is\", value, \"that\", name, \"is\", age, \"years old.\")"
   ]
  },
  {
   "cell_type": "markdown",
   "metadata": {},
   "source": [
    "### Exercise  4 \n",
    "Follow the instruction on each comment line. Then, use in-line comments to identify the number type of each result.\n"
   ]
  },
  {
   "cell_type": "code",
   "execution_count": 55,
   "metadata": {},
   "outputs": [
    {
     "name": "stdout",
     "output_type": "stream",
     "text": [
      "6.666667\n"
     ]
    },
    {
     "data": {
      "text/plain": [
       "135.0"
      ]
     },
     "execution_count": 55,
     "metadata": {},
     "output_type": "execute_result"
    }
   ],
   "source": [
    "# Print out the result of 20/3\n",
    "\n",
    "var=20/3\n",
    "\n",
    "# Print out the result of 20/3 to the nearest one using string format\n",
    "\n",
    "print(f\"{var:0f}\")\n",
    "\n",
    "# Print out the result of 30 * 4.5\n",
    "\n",
    "30*4.5\n",
    "         "
   ]
  },
  {
   "cell_type": "markdown",
   "metadata": {},
   "source": [
    "### Exercise 5\n",
    "Debug below code"
   ]
  },
  {
   "cell_type": "code",
   "execution_count": 44,
   "metadata": {},
   "outputs": [
    {
     "name": "stdout",
     "output_type": "stream",
     "text": [
      "Hello World\n",
      "I'm only as smart as David because I'm reading.\n",
      "There are only 2 friends available to eat with you today\n",
      "Why don't we call Carly today?\n",
      "If they bring their partner then we need a table for 22\n",
      "We need to arrive at la MC at what time?\n",
      "We have to be there at 5:30 pm or else O'Brien will say 'I told you so.'\n"
     ]
    }
   ],
   "source": [
    "hello = \"Hello World\"\n",
    "noun = \"David\"\n",
    "numberof_friends = \"2\"\n",
    "name_of_friend = \"Carly\"\n",
    "location = \"la MC\"\n",
    "time = \"5:30 pm\"\n",
    "\n",
    "print(hello)\n",
    "print(\"I'm only as smart as\", noun, \"because I'm reading.\")\n",
    "print(\"There are only\", numberof_friends, \"friends available to eat with you today\")\n",
    "print(\"Why don't we call\", name_of_friend, \"today?\")\n",
    "print(\"If they bring their partner then we need a table for\", (numberof_friends*2))\n",
    "print(\"We need to arrive at\", location, \"at what time?\")\n",
    "print(\"We have to be there at\", time, \"or else O'Brien will say 'I told you so.'\")"
   ]
  },
  {
   "cell_type": "markdown",
   "metadata": {},
   "source": [
    "### Exercise  6 \n",
    "Take the fixed code from above and use the formatted strings to produce the same result."
   ]
  },
  {
   "cell_type": "code",
   "execution_count": null,
   "metadata": {},
   "outputs": [],
   "source": []
  },
  {
   "cell_type": "markdown",
   "metadata": {},
   "source": [
    "### Exercise 7\n",
    "Follow instructions in the comment lines."
   ]
  },
  {
   "cell_type": "code",
   "execution_count": 59,
   "metadata": {},
   "outputs": [
    {
     "name": "stdout",
     "output_type": "stream",
     "text": [
      "Hello Class\n"
     ]
    }
   ],
   "source": [
    "# Concatenate two sentences together and print them on one line.\n",
    "print (\"Hello\" + \" \" + \"Class\")\n",
    "\n"
   ]
  },
  {
   "cell_type": "code",
   "execution_count": 64,
   "metadata": {},
   "outputs": [
    {
     "name": "stdout",
     "output_type": "stream",
     "text": [
      "print all of these lines for me 7 times pleaseprint all of these lines for me 7 times pleaseprint all of these lines for me 7 times pleaseprint all of these lines for me 7 times pleaseprint all of these lines for me 7 times pleaseprint all of these lines for me 7 times pleaseprint all of these lines for me 7 times please\n"
     ]
    }
   ],
   "source": [
    "# Print out \"print all of these lines for me 7 times please\"  \n",
    "# 7 times using one print statement.\n",
    "\n",
    "print (\"print all of these lines for me 7 times please\" * 7)\n"
   ]
  },
  {
   "cell_type": "code",
   "execution_count": 66,
   "metadata": {},
   "outputs": [
    {
     "name": "stdout",
     "output_type": "stream",
     "text": [
      "I love '' single quotes\n"
     ]
    }
   ],
   "source": [
    "# Print out a statement with a single quote inside the  \n",
    "# double qoute saying I 'love' single quotes.\n",
    "\n",
    "print(\"I love ' ' single quotes\")\n"
   ]
  },
  {
   "cell_type": "code",
   "execution_count": 67,
   "metadata": {},
   "outputs": [
    {
     "name": "stdout",
     "output_type": "stream",
     "text": [
      "I love \" \" single quotes\n"
     ]
    }
   ],
   "source": [
    "# Print out a statement with a double quote inside the \n",
    "# double quote saying I \"love\" double quotes.\n",
    "\n",
    "print('I love \" \" single quotes')"
   ]
  },
  {
   "cell_type": "code",
   "execution_count": 77,
   "metadata": {},
   "outputs": [
    {
     "name": "stdout",
     "output_type": "stream",
     "text": [
      "We are free.\n",
      "We are almost free\n"
     ]
    }
   ],
   "source": [
    "# Use one print function to print this statement on two lines: \n",
    "# \"We are free. We are almost free.\"\n",
    "\n",
    "print (\"We are free.\"\"\\nWe are almost free\")"
   ]
  },
  {
   "cell_type": "markdown",
   "metadata": {},
   "source": [
    "### Exercise 8\n",
    "Use one print statement to print out \"apple pie\", using following variables"
   ]
  },
  {
   "cell_type": "code",
   "execution_count": 91,
   "metadata": {},
   "outputs": [
    {
     "name": "stdout",
     "output_type": "stream",
     "text": [
      "a p p l e   p i e\n"
     ]
    }
   ],
   "source": [
    "ch1='a'\n",
    "ch2='e'\n",
    "ch3='i'\n",
    "ch4='o'\n",
    "ch5='u'\n",
    "ch6='l'\n",
    "ch7='p'\n",
    "\n",
    "print (ch1,ch7,ch7,ch6,ch2,\" \", ch7,ch3,ch2)\n"
   ]
  },
  {
   "cell_type": "code",
   "execution_count": 84,
   "metadata": {},
   "outputs": [
    {
     "ename": "NameError",
     "evalue": "name 'ch1' is not defined",
     "output_type": "error",
     "traceback": [
      "\u001b[1;31m---------------------------------------------------------------------------\u001b[0m",
      "\u001b[1;31mNameError\u001b[0m                                 Traceback (most recent call last)",
      "Input \u001b[1;32mIn [84]\u001b[0m, in \u001b[0;36m<cell line: 1>\u001b[1;34m()\u001b[0m\n\u001b[1;32m----> 1\u001b[0m \u001b[38;5;28mprint\u001b[39m (\u001b[43mch1\u001b[49m, ch7, ch7, ch6, ch2, ch7, ch3, ch2)\n",
      "\u001b[1;31mNameError\u001b[0m: name 'ch1' is not defined"
     ]
    }
   ],
   "source": []
  },
  {
   "cell_type": "code",
   "execution_count": null,
   "metadata": {},
   "outputs": [],
   "source": []
  }
 ],
 "metadata": {
  "kernelspec": {
   "display_name": "Python 3 (ipykernel)",
   "language": "python",
   "name": "python3"
  },
  "language_info": {
   "codemirror_mode": {
    "name": "ipython",
    "version": 3
   },
   "file_extension": ".py",
   "mimetype": "text/x-python",
   "name": "python",
   "nbconvert_exporter": "python",
   "pygments_lexer": "ipython3",
   "version": "3.9.12"
  }
 },
 "nbformat": 4,
 "nbformat_minor": 2
}
